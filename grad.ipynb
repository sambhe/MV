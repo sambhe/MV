{
 "cells": [
  {
   "cell_type": "code",
   "execution_count": 33,
   "metadata": {},
   "outputs": [],
   "source": [
    "import numpy as np\n",
    "import matplotlib.pyplot as plt\n",
    "#import autograd.numpy as np1  # wrapped numpy\n",
    "#from autograd import grad    #"
   ]
  },
  {
   "cell_type": "code",
   "execution_count": 160,
   "metadata": {},
   "outputs": [],
   "source": [
    " def f(x):\n",
    "    return x**4+x**3-8*x**2"
   ]
  },
  {
   "cell_type": "code",
   "execution_count": 159,
   "metadata": {},
   "outputs": [
    {
     "data": {
      "text/plain": [
       "[<matplotlib.lines.Line2D at 0x1fb45fa9dc8>]"
      ]
     },
     "execution_count": 159,
     "metadata": {},
     "output_type": "execute_result"
    },
    {
     "data": {
      "image/png": "[encoded data removed]",
      "text/plain": [
       "<Figure size 432x288 with 1 Axes>"
      ]
     },
     "metadata": {
      "needs_background": "light"
     },
     "output_type": "display_data"
    }
   ],
   "source": [
    "np.random.seed(42)\n",
    "x = np.linspace(-3,3)\n",
    "y=f(x)\n",
    "plt.plot(x,x**4+x**3-8*x**2) "
   ]
  },
  {
   "cell_type": "code",
   "execution_count": 141,
   "metadata": {},
   "outputs": [],
   "source": [
    "def bisection(f, a, b, ϵ, plotting=True):\n",
    "    if a > b:\n",
    "        a,b = b,a # ensure a < b\n",
    "\n",
    "    ya, yb = f(a), f(b)\n",
    "    if ya == 0:\n",
    "        b = a\n",
    "    if yb == 0:\n",
    "        a = b\n",
    "\n",
    "    while b - a > ϵ:\n",
    "        \n",
    "        x1 = (a+b)/2\n",
    "        y1 = f(x1)\n",
    "        if y1 == 0:\n",
    "            a, b = x1, x1\n",
    "        elif np.sign(y1) == np.sign(ya):\n",
    "            a = x1\n",
    "        else:\n",
    "            b = x1\n",
    "    #if plotting==True:\n",
    "            #plt.figure()\n",
    "            #xx = np.linspace(a0,b0,20)\n",
    "            #plt.plot(xx,cost(xx))\n",
    "            #plt.plot(x,y)\n",
    "            #plt.scatter(np.array([a,b]),np.array([a,b])*0)\n",
    "            #plt.scatter(np.array([a,b]),np.array([cost(a),cost(b)]))\n",
    "    return (a,b)"
   ]
  },
  {
   "cell_type": "code",
   "execution_count": 161,
   "metadata": {},
   "outputs": [],
   "source": [
    "def cost(β):\n",
    "    if isinstance(β,np.ndarray)==False:\n",
    "        β = np.array([β])\n",
    "    acc = []\n",
    "    for b in β:\n",
    "        acc.append(np.sum((y-(x**4+x**3-8*x**2))**2))\n",
    "    return np.array(acc)"
   ]
  },
  {
   "cell_type": "code",
   "execution_count": 162,
   "metadata": {},
   "outputs": [],
   "source": [
    "def dcost(β):\n",
    "    if isinstance(β,np.ndarray)==False:\n",
    "        β = np.array([β])\n",
    "    acc = []\n",
    "    for b in β:\n",
    "        acc.append(-np.sum((y-b*x**4-x**3+8*x**2)*x))\n",
    "        #gradcost = grad(cost)\n",
    "       \n",
    "        #acc.append( gradcost(np.array([b])))\n",
    "    return np.array(acc)"
   ]
  },
  {
   "cell_type": "code",
   "execution_count": 164,
   "metadata": {},
   "outputs": [
    {
     "data": {
      "image/png": "[encoded data removed]",
      "text/plain": [
       "<Figure size 432x288 with 1 Axes>"
      ]
     },
     "metadata": {
      "needs_background": "light"
     },
     "output_type": "display_data"
    }
   ],
   "source": [
    "a0 = 1\n",
    "b0 =2.5\n",
    "a,b = bisection(cost,a0,b0,0.001)\n",
    "plt.plot(x, y);\n",
    "plt.scatter(a, f(a), c='red', s=50);"
   ]
  },
  {
   "cell_type": "code",
   "execution_count": null,
   "metadata": {},
   "outputs": [],
   "source": []
  },
  {
   "cell_type": "code",
   "execution_count": null,
   "metadata": {},
   "outputs": [],
   "source": []
  }
 ],
 "metadata": {
  "kernelspec": {
   "display_name": "Python 3",
   "language": "python",
   "name": "python3"
  },
  "language_info": {
   "codemirror_mode": {
    "name": "ipython",
    "version": 3
   },
   "file_extension": ".py",
   "mimetype": "text/x-python",
   "name": "python",
   "nbconvert_exporter": "python",
   "pygments_lexer": "ipython3",
   "version": "3.7.4"
  }
 },
 "nbformat": 4,
 "nbformat_minor": 2
}
